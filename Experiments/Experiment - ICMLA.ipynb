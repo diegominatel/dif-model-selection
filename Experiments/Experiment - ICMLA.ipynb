{
 "cells": [
  {
   "cell_type": "code",
   "execution_count": 1,
   "id": "eefdcd90",
   "metadata": {},
   "outputs": [
    {
     "name": "stderr",
     "output_type": "stream",
     "text": [
      "2023-09-10 15:13:35.670499: I tensorflow/tsl/cuda/cudart_stub.cc:28] Could not find cuda drivers on your machine, GPU will not be used.\n",
      "2023-09-10 15:13:35.716539: I tensorflow/tsl/cuda/cudart_stub.cc:28] Could not find cuda drivers on your machine, GPU will not be used.\n",
      "2023-09-10 15:13:35.717680: I tensorflow/core/platform/cpu_feature_guard.cc:182] This TensorFlow binary is optimized to use available CPU instructions in performance-critical operations.\n",
      "To enable the following instructions: AVX2 FMA, in other operations, rebuild TensorFlow with the appropriate compiler flags.\n",
      "2023-09-10 15:13:36.433759: W tensorflow/compiler/tf2tensorrt/utils/py_utils.cc:38] TF-TRT Warning: Could not find TensorRT\n",
      "WARNING:root:No module named 'fairlearn': ExponentiatedGradientReduction will be unavailable. To install, run:\n",
      "pip install 'aif360[Reductions]'\n",
      "WARNING:root:No module named 'fairlearn': GridSearchReduction will be unavailable. To install, run:\n",
      "pip install 'aif360[Reductions]'\n"
     ]
    }
   ],
   "source": [
    "import sys\n",
    "import pandas as pd\n",
    "import numpy as np \n",
    "import sys\n",
    "\n",
    "from settings import set_configs\n",
    "\n",
    "sys.path.append('../Algorithms/')\n",
    "from dif_model_selection import DIFModelSelection\n",
    "\n",
    "sys.path.append('../Datasets/Preprocessed-Datasets')\n",
    "from datasets import (Adult, Arrhythmia, Bank, CompasMen, CompasWomen, Contraceptive, \n",
    "                      German, Heart, Student, Titanic)\n",
    "\n",
    "import warnings\n",
    "warnings.filterwarnings('ignore')\n",
    "\n",
    "import tensorflow as tf\n",
    "tf.compat.v1.disable_eager_execution()"
   ]
  },
  {
   "cell_type": "code",
   "execution_count": 2,
   "id": "2adebdd4",
   "metadata": {},
   "outputs": [
    {
     "name": "stdout",
     "output_type": "stream",
     "text": [
      "Teste | Classifier 29/30 (XGB)\n"
     ]
    }
   ],
   "source": [
    "datasets = [Adult, Arrhythmia, Bank, CompasMen, CompasWomen, Contraceptive, German, Heart, Student, Titanic]\n",
    "\n",
    "for dataset in datasets:\n",
    "    x, y = dataset().get_xy()\n",
    "    all_configs = set_configs(x.shape[1])\n",
    "    for config_name, settings in all_configs.items():\n",
    "        name = dataset.__name__.lower() + '_' + config_name\n",
    "        experiment = DIFModelSelection(classifier_settings=settings, protected_attribute='Group',\n",
    "                                      priv_group='Privileged', n=5, test_size=0.25, random_state=42, \n",
    "                                      print_display=True, print_reports=True, experiment_name=name)\n",
    "        experiment.calculate(x, y)"
   ]
  },
  {
   "cell_type": "code",
   "execution_count": null,
   "id": "26c896f3",
   "metadata": {},
   "outputs": [],
   "source": []
  }
 ],
 "metadata": {
  "kernelspec": {
   "display_name": "Python 3 (ipykernel)",
   "language": "python",
   "name": "python3"
  },
  "language_info": {
   "codemirror_mode": {
    "name": "ipython",
    "version": 3
   },
   "file_extension": ".py",
   "mimetype": "text/x-python",
   "name": "python",
   "nbconvert_exporter": "python",
   "pygments_lexer": "ipython3",
   "version": "3.8.10"
  }
 },
 "nbformat": 4,
 "nbformat_minor": 5
}
